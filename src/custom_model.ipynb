{
 "cells": [
  {
   "cell_type": "code",
   "execution_count": 1,
   "metadata": {},
   "outputs": [
    {
     "name": "stderr",
     "output_type": "stream",
     "text": [
      "c:\\Users\\CSE IIT BHILAI\\Downloads\\dlcv\\.venv\\Lib\\site-packages\\tqdm\\auto.py:21: TqdmWarning: IProgress not found. Please update jupyter and ipywidgets. See https://ipywidgets.readthedocs.io/en/stable/user_install.html\n",
      "  from .autonotebook import tqdm as notebook_tqdm\n"
     ]
    }
   ],
   "source": [
    "import torch\n",
    "from pathlib import Path\n",
    "from tqdm import tqdm\n",
    "from PIL import Image\n",
    "from transformers import BlipForQuestionAnswering, BlipProcessor\n",
    "from torch.utils.data import DataLoader, Dataset\n",
    "from doctr.io import DocumentFile\n",
    "from doctr.models import ocr_predictor"
   ]
  },
  {
   "cell_type": "code",
   "execution_count": 2,
   "metadata": {},
   "outputs": [
    {
     "name": "stdout",
     "output_type": "stream",
     "text": [
      "cuda\n",
      "c:\\Users\\CSE IIT BHILAI\\Downloads\\dlcv\n"
     ]
    },
    {
     "name": "stderr",
     "output_type": "stream",
     "text": [
      "c:\\Users\\CSE IIT BHILAI\\Downloads\\dlcv\\.venv\\Lib\\site-packages\\IPython\\core\\magics\\osm.py:417: UserWarning: This is now an optional IPython functionality, setting dhist requires you to install the `pickleshare` library.\n",
      "  self.shell.db['dhist'] = compress_dhist(dhist)[-100:]\n"
     ]
    }
   ],
   "source": [
    "MAX_LENGTH=20\n",
    "BATCH_SIZE=8\n",
    "NUM_EPOCHS=20\n",
    "device = \"cuda\" if torch.cuda.is_available() else \"cpu\"\n",
    "print(device)\n",
    "BASE_DIR=Path(r'c:\\Users\\CSE IIT BHILAI\\Downloads\\dlcv')\n",
    "%cd {BASE_DIR}"
   ]
  },
  {
   "cell_type": "code",
   "execution_count": 3,
   "metadata": {},
   "outputs": [
    {
     "data": {
      "text/plain": [
       "True"
      ]
     },
     "execution_count": 3,
     "metadata": {},
     "output_type": "execute_result"
    }
   ],
   "source": [
    "torch.cuda.is_available()"
   ]
  },
  {
   "cell_type": "code",
   "execution_count": 4,
   "metadata": {},
   "outputs": [],
   "source": [
    "model_name = \"Salesforce/blip-vqa-base\"\n",
    "model = BlipForQuestionAnswering.from_pretrained(model_name)\n",
    "processor = BlipProcessor.from_pretrained(model_name)"
   ]
  },
  {
   "cell_type": "code",
   "execution_count": 5,
   "metadata": {},
   "outputs": [],
   "source": [
    "\n",
    "import json\n",
    "\n",
    "# Function to extract text from image\n",
    "def extract_text(image_path):\n",
    "    doc = DocumentFile.from_images(image_path)\n",
    "    predictor = ocr_predictor(pretrained=True)\n",
    "    result = predictor(doc)\n",
    "    json_export = result.export()\n",
    "    fields_to_remove = ['objectness_score','crop_orientation','confidence','geometry', 'page_idx', 'dimensions', 'orientation', 'language', 'artefacts']\n",
    "    remove_fields(json_export, fields_to_remove)\n",
    "    for page in json_export['pages']:\n",
    "        for block in page['blocks']:\n",
    "            if 'geometry' in block:\n",
    "                del block['geometry']\n",
    "            for line in block.get('lines', []):\n",
    "                if 'geometry' in line:\n",
    "                    del line['geometry']\n",
    "    \n",
    "    modified_json = json.dumps(json_export, separators=(',', ':'))\n",
    "    final_str = extract_values_to_string(modified_json)\n",
    "    return final_str\n",
    "\n",
    "\n",
    "def remove_fields(obj, fields):\n",
    "    if isinstance(obj, list):\n",
    "        for item in obj:\n",
    "            remove_fields(item, fields)\n",
    "    elif isinstance(obj, dict):\n",
    "        for key in list(obj.keys()):\n",
    "            if key in fields:\n",
    "                del obj[key]\n",
    "            else:\n",
    "                remove_fields(obj[key], fields)\n",
    "    \n",
    "def remove_geometry(data):\n",
    "    if isinstance(data, list):\n",
    "        for item in data:\n",
    "            remove_geometry(item)\n",
    "    elif isinstance(data, dict):\n",
    "        if 'geometry' in data:\n",
    "            del data['geometry']\n",
    "        for key, value in data.items():\n",
    "            remove_geometry(value)\n",
    "\n",
    "def extract_values_to_string(json_string):\n",
    "    # Recursive function to extract 'value' fields\n",
    "    data = json.loads(json_string)\n",
    "    def extract_values(block):\n",
    "        values = []\n",
    "        if isinstance(block, dict):\n",
    "            for key, value in block.items():\n",
    "                if key == \"value\":\n",
    "                    values.append(value)\n",
    "                else:\n",
    "                    values.extend(extract_values(value))\n",
    "        elif isinstance(block, list):\n",
    "            for item in block:\n",
    "                values.extend(extract_values(item))\n",
    "        return values\n",
    "    \n",
    "    # Extract values and combine them into a single string\n",
    "    values = extract_values(data)\n",
    "    return ' '.join(values)"
   ]
  },
  {
   "cell_type": "code",
   "execution_count": 6,
   "metadata": {},
   "outputs": [
    {
     "name": "stderr",
     "output_type": "stream",
     "text": [
      "c:\\Users\\CSE IIT BHILAI\\Downloads\\dlcv\\.venv\\Lib\\site-packages\\doctr\\models\\utils\\pytorch.py:59: FutureWarning: You are using `torch.load` with `weights_only=False` (the current default value), which uses the default pickle module implicitly. It is possible to construct malicious pickle data which will execute arbitrary code during unpickling (See https://github.com/pytorch/pytorch/blob/main/SECURITY.md#untrusted-models for more details). In a future release, the default value for `weights_only` will be flipped to `True`. This limits the functions that could be executed during unpickling. Arbitrary objects will no longer be allowed to be loaded via this mode unless they are explicitly allowlisted by the user via `torch.serialization.add_safe_globals`. We recommend you start setting `weights_only=True` for any use case where you don't have full control of the loaded file. Please open an issue on GitHub for any issues related to this experimental feature.\n",
      "  state_dict = torch.load(archive_path, map_location=\"cpu\")\n"
     ]
    },
    {
     "name": "stdout",
     "output_type": "stream",
     "text": [
      "USB Rechargeable ult-in 400mah Kechargeable -Battery a 60 days One-time Full-chargod - Under the condons: ghts up < times/day,\n"
     ]
    }
   ],
   "source": [
    "w = extract_text(r'C:\\Users\\CSE IIT BHILAI\\Downloads\\dlcv\\images\\test\\21IYQostduL.jpg')\n",
    "print(w)"
   ]
  },
  {
   "cell_type": "code",
   "execution_count": 7,
   "metadata": {},
   "outputs": [],
   "source": [
    "from torch.utils.data import Dataset\n",
    "from PIL import Image\n",
    "class MultiModalVQADataset(Dataset):\n",
    "    def __init__(self, dataframe, processor, max_length=MAX_LENGTH):\n",
    "        self.dataframe = dataframe\n",
    "        self.processor = processor\n",
    "        # self.ocr_reader = ocr_reader\n",
    "        self.max_length = max_length\n",
    "\n",
    "    def __len__(self):\n",
    "        return len(self.dataframe)\n",
    "\n",
    "    def __getitem__(self, idx):\n",
    "        row = self.dataframe.iloc[idx]\n",
    "        image = Image.open(row[\"image_path\"]).convert(\"RGB\")\n",
    "        question = row[\"question\"]\n",
    "        answer = row[\"answer\"]\n",
    "\n",
    "        # Extract text from the image\n",
    "        ocr_text = extract_text(row[\"image_path\"])\n",
    "\n",
    "        # Prepare inputs for the vision model\n",
    "        inputs = self.processor(\n",
    "            text=question,\n",
    "            images=image,\n",
    "            max_length=self.max_length,\n",
    "            padding=\"max_length\",\n",
    "            truncation=True,\n",
    "            return_tensors=\"pt\",\n",
    "        )\n",
    "\n",
    "        inputs[\"labels\"] = self.processor.tokenizer(\n",
    "            answer,\n",
    "            max_length=self.max_length,\n",
    "            padding=\"max_length\",\n",
    "            truncation=True,\n",
    "            return_tensors=\"pt\",\n",
    "        ).input_ids.squeeze(0)\n",
    "\n",
    "        for key in inputs:\n",
    "            inputs[key]=inputs[key].squeeze(0)\n",
    "        inputs[\"ocr_text\"] = ocr_text\n",
    "        \n",
    "\n",
    "        return inputs"
   ]
  },
  {
   "cell_type": "code",
   "execution_count": 8,
   "metadata": {},
   "outputs": [],
   "source": [
    "import pandas as pd\n",
    "\n",
    "df = pd.read_csv(r\"C:\\Users\\CSE IIT BHILAI\\Downloads\\dlcv\\data\\train_vqa.csv\")\n",
    "train_dataset = MultiModalVQADataset(df.iloc[:1000], processor)"
   ]
  },
  {
   "cell_type": "code",
   "execution_count": 9,
   "metadata": {},
   "outputs": [],
   "source": [
    "train_dataloader = DataLoader(train_dataset, batch_size=BATCH_SIZE, shuffle=True)"
   ]
  },
  {
   "cell_type": "code",
   "execution_count": 10,
   "metadata": {},
   "outputs": [],
   "source": [
    "optimizer = torch.optim.AdamW(model.parameters(), lr=5e-5)\n",
    "criterion = torch.nn.CrossEntropyLoss()\n"
   ]
  },
  {
   "cell_type": "code",
   "execution_count": 11,
   "metadata": {},
   "outputs": [],
   "source": [
    "import os\n",
    "\n",
    "ckpt_dir = \"./checkpoints\"\n",
    "os.makedirs(ckpt_dir, exist_ok=True)"
   ]
  },
  {
   "cell_type": "code",
   "execution_count": 12,
   "metadata": {},
   "outputs": [],
   "source": [
    "import torch\n",
    "from torch import nn\n",
    "from transformers import BlipForConditionalGeneration,BlipForQuestionAnswering, AutoTokenizer, AutoModel\n",
    "\n",
    "\n",
    "class MultiModalVQAModel(nn.Module):\n",
    "    def __init__(self, vision_model_name, text_model_name, hidden_size=768, max_length=20):\n",
    "        super(MultiModalVQAModel, self).__init__()\n",
    "\n",
    "        # Vision model (BLIP)\n",
    "        self.vision_model = BlipForConditionalGeneration.from_pretrained(vision_model_name)\n",
    "\n",
    "        # Language model for OCR-extracted text\n",
    "        self.text_model = AutoModel.from_pretrained(text_model_name)\n",
    "        self.tokenizer = AutoTokenizer.from_pretrained(text_model_name)\n",
    "        # vocab_size = self.vision_model.text_decoder.config.vocab_size\n",
    "        # Fusion Layer\n",
    "        self.fusion_layer = nn.Linear(hidden_size * 2, hidden_size)\n",
    "        self.max_length = max_length\n",
    "        # Output Layer\n",
    "\n",
    "    def forward(self, pixel_values, input_ids, attention_mask, ocr_text, labels=None):\n",
    "        # Vision model outputs\n",
    "        # pixel_values = pixel_values.squeeze(1)\n",
    "        vision_outputs = self.vision_model.vision_model(\n",
    "            pixel_values=pixel_values\n",
    "        ).last_hidden_state\n",
    "        # vision_features = vision_outputs.last_hidden_state.mean(dim=1)\n",
    "        # Text model outputs (OCR text)\n",
    "        ocr_inputs = self.tokenizer(\n",
    "            ocr_text, return_tensors=\"pt\", padding=True, truncation=True\n",
    "        ).to(device)\n",
    "        ocr_outputs = self.text_model(**ocr_inputs).last_hidden_state.mean(\n",
    "            dim=1\n",
    "        ).to(device)  # Mean-pooling for text features\n",
    "\n",
    "        # Fuse vision and OCR features\n",
    "        combined_features = torch.cat(\n",
    "            [vision_outputs.mean(dim=1), ocr_outputs], dim=1\n",
    "        )  # Mean-pooling image features\n",
    "        fused_features = self.fusion_layer(combined_features)\n",
    "        decoder_inputs = {\n",
    "            \"pixel_values\": pixel_values,\n",
    "            \"input_ids\": input_ids,\n",
    "            \"attention_mask\": attention_mask,\n",
    "            \"encoder_outputs\": (fused_features.unsqueeze(1),),  # Treat fused features as encoder output\n",
    "            \"labels\": labels,\n",
    "        }\n",
    "        outputs = self.vision_model(**decoder_inputs)\n",
    "        # Predict answer\n",
    "        # out = self.lin(fused_features)\n",
    "        # logits = self.classifier(out)\n",
    "        return outputs"
   ]
  },
  {
   "cell_type": "code",
   "execution_count": 13,
   "metadata": {},
   "outputs": [],
   "source": [
    "vision_model_name = \"Salesforce/blip-vqa-base\"\n",
    "text_model_name = \"bert-base-uncased\"\n",
    "model = MultiModalVQAModel(vision_model_name, text_model_name).to(device)"
   ]
  },
  {
   "cell_type": "code",
   "execution_count": 14,
   "metadata": {},
   "outputs": [
    {
     "name": "stderr",
     "output_type": "stream",
     "text": [
      "  0%|          | 0/125 [00:00<?, ?it/s]c:\\Users\\CSE IIT BHILAI\\Downloads\\dlcv\\.venv\\Lib\\site-packages\\doctr\\models\\utils\\pytorch.py:59: FutureWarning: You are using `torch.load` with `weights_only=False` (the current default value), which uses the default pickle module implicitly. It is possible to construct malicious pickle data which will execute arbitrary code during unpickling (See https://github.com/pytorch/pytorch/blob/main/SECURITY.md#untrusted-models for more details). In a future release, the default value for `weights_only` will be flipped to `True`. This limits the functions that could be executed during unpickling. Arbitrary objects will no longer be allowed to be loaded via this mode unless they are explicitly allowlisted by the user via `torch.serialization.add_safe_globals`. We recommend you start setting `weights_only=True` for any use case where you don't have full control of the loaded file. Please open an issue on GitHub for any issues related to this experimental feature.\n",
      "  state_dict = torch.load(archive_path, map_location=\"cpu\")\n",
      "100%|██████████| 125/125 [34:42<00:00, 16.66s/it]\n"
     ]
    },
    {
     "name": "stdout",
     "output_type": "stream",
     "text": [
      "Epoch 1/20, Loss: 78101.85238684868\n",
      "Checkpoint saved at ./checkpoints\\epoch_1.pth\n",
      "\n"
     ]
    },
    {
     "name": "stderr",
     "output_type": "stream",
     "text": [
      "100%|██████████| 125/125 [34:33<00:00, 16.59s/it]\n"
     ]
    },
    {
     "name": "stdout",
     "output_type": "stream",
     "text": [
      "Epoch 2/20, Loss: 78105.21723820567\n",
      "Checkpoint saved at ./checkpoints\\epoch_2.pth\n",
      "\n"
     ]
    },
    {
     "name": "stderr",
     "output_type": "stream",
     "text": [
      "100%|██████████| 125/125 [33:54<00:00, 16.28s/it]\n"
     ]
    },
    {
     "name": "stdout",
     "output_type": "stream",
     "text": [
      "Epoch 3/20, Loss: 78103.3370823195\n",
      "Checkpoint saved at ./checkpoints\\epoch_3.pth\n",
      "\n"
     ]
    },
    {
     "name": "stderr",
     "output_type": "stream",
     "text": [
      "100%|██████████| 125/125 [34:19<00:00, 16.48s/it]\n"
     ]
    },
    {
     "name": "stdout",
     "output_type": "stream",
     "text": [
      "Epoch 4/20, Loss: 78098.35616733575\n",
      "Checkpoint saved at ./checkpoints\\epoch_4.pth\n",
      "\n"
     ]
    },
    {
     "name": "stderr",
     "output_type": "stream",
     "text": [
      "100%|██████████| 125/125 [34:05<00:00, 16.37s/it]\n"
     ]
    },
    {
     "name": "stdout",
     "output_type": "stream",
     "text": [
      "Epoch 5/20, Loss: 78103.82916619086\n",
      "Checkpoint saved at ./checkpoints\\epoch_5.pth\n",
      "\n"
     ]
    },
    {
     "name": "stderr",
     "output_type": "stream",
     "text": [
      "100%|██████████| 125/125 [33:58<00:00, 16.30s/it]\n"
     ]
    },
    {
     "name": "stdout",
     "output_type": "stream",
     "text": [
      "Epoch 6/20, Loss: 78098.13950911378\n",
      "Checkpoint saved at ./checkpoints\\epoch_6.pth\n",
      "\n"
     ]
    },
    {
     "name": "stderr",
     "output_type": "stream",
     "text": [
      "100%|██████████| 125/125 [33:58<00:00, 16.30s/it]\n"
     ]
    },
    {
     "name": "stdout",
     "output_type": "stream",
     "text": [
      "Epoch 7/20, Loss: 78105.29536443781\n",
      "Checkpoint saved at ./checkpoints\\epoch_7.pth\n",
      "\n"
     ]
    },
    {
     "name": "stderr",
     "output_type": "stream",
     "text": [
      "100%|██████████| 125/125 [34:07<00:00, 16.38s/it]\n"
     ]
    },
    {
     "name": "stdout",
     "output_type": "stream",
     "text": [
      "Epoch 8/20, Loss: 78104.60057839108\n",
      "Checkpoint saved at ./checkpoints\\epoch_8.pth\n",
      "\n"
     ]
    },
    {
     "name": "stderr",
     "output_type": "stream",
     "text": [
      "100%|██████████| 125/125 [33:59<00:00, 16.31s/it]\n"
     ]
    },
    {
     "name": "stdout",
     "output_type": "stream",
     "text": [
      "Epoch 9/20, Loss: 78101.73574285937\n",
      "Checkpoint saved at ./checkpoints\\epoch_9.pth\n",
      "\n"
     ]
    },
    {
     "name": "stderr",
     "output_type": "stream",
     "text": [
      "100%|██████████| 125/125 [33:56<00:00, 16.29s/it]\n"
     ]
    },
    {
     "name": "stdout",
     "output_type": "stream",
     "text": [
      "Epoch 10/20, Loss: 78104.17499764156\n",
      "Checkpoint saved at ./checkpoints\\epoch_10.pth\n",
      "\n"
     ]
    },
    {
     "name": "stderr",
     "output_type": "stream",
     "text": [
      "100%|██████████| 125/125 [33:58<00:00, 16.31s/it]\n"
     ]
    },
    {
     "name": "stdout",
     "output_type": "stream",
     "text": [
      "Epoch 11/20, Loss: 78107.69916300106\n",
      "Checkpoint saved at ./checkpoints\\epoch_11.pth\n",
      "\n"
     ]
    },
    {
     "name": "stderr",
     "output_type": "stream",
     "text": [
      "100%|██████████| 125/125 [33:56<00:00, 16.30s/it]\n"
     ]
    },
    {
     "name": "stdout",
     "output_type": "stream",
     "text": [
      "Epoch 12/20, Loss: 78105.82850817562\n",
      "Checkpoint saved at ./checkpoints\\epoch_12.pth\n",
      "\n"
     ]
    },
    {
     "name": "stderr",
     "output_type": "stream",
     "text": [
      "100%|██████████| 125/125 [33:57<00:00, 16.30s/it]\n"
     ]
    },
    {
     "name": "stdout",
     "output_type": "stream",
     "text": [
      "Epoch 13/20, Loss: 78105.9755445485\n",
      "Checkpoint saved at ./checkpoints\\epoch_13.pth\n",
      "\n"
     ]
    },
    {
     "name": "stderr",
     "output_type": "stream",
     "text": [
      "100%|██████████| 125/125 [33:58<00:00, 16.30s/it]\n"
     ]
    },
    {
     "name": "stdout",
     "output_type": "stream",
     "text": [
      "Epoch 14/20, Loss: 78095.49981753921\n",
      "Checkpoint saved at ./checkpoints\\epoch_14.pth\n",
      "\n"
     ]
    },
    {
     "name": "stderr",
     "output_type": "stream",
     "text": [
      "100%|██████████| 125/125 [33:59<00:00, 16.31s/it]\n"
     ]
    },
    {
     "name": "stdout",
     "output_type": "stream",
     "text": [
      "Epoch 15/20, Loss: 78107.44867732168\n",
      "Checkpoint saved at ./checkpoints\\epoch_15.pth\n",
      "\n"
     ]
    },
    {
     "name": "stderr",
     "output_type": "stream",
     "text": [
      "100%|██████████| 125/125 [33:58<00:00, 16.31s/it]\n"
     ]
    },
    {
     "name": "stdout",
     "output_type": "stream",
     "text": [
      "Epoch 16/20, Loss: 78092.03279410076\n",
      "Checkpoint saved at ./checkpoints\\epoch_16.pth\n",
      "\n"
     ]
    },
    {
     "name": "stderr",
     "output_type": "stream",
     "text": [
      "100%|██████████| 125/125 [34:00<00:00, 16.32s/it]\n"
     ]
    },
    {
     "name": "stdout",
     "output_type": "stream",
     "text": [
      "Epoch 17/20, Loss: 78098.91839239097\n",
      "Checkpoint saved at ./checkpoints\\epoch_17.pth\n",
      "\n"
     ]
    },
    {
     "name": "stderr",
     "output_type": "stream",
     "text": [
      "100%|██████████| 125/125 [33:59<00:00, 16.31s/it]\n"
     ]
    },
    {
     "name": "stdout",
     "output_type": "stream",
     "text": [
      "Epoch 18/20, Loss: 78105.39428282618\n",
      "Checkpoint saved at ./checkpoints\\epoch_18.pth\n",
      "\n"
     ]
    },
    {
     "name": "stderr",
     "output_type": "stream",
     "text": [
      "100%|██████████| 125/125 [33:58<00:00, 16.31s/it]\n"
     ]
    },
    {
     "name": "stdout",
     "output_type": "stream",
     "text": [
      "Epoch 19/20, Loss: 78094.86474051165\n",
      "Checkpoint saved at ./checkpoints\\epoch_19.pth\n",
      "\n"
     ]
    },
    {
     "name": "stderr",
     "output_type": "stream",
     "text": [
      "100%|██████████| 125/125 [33:59<00:00, 16.31s/it]\n"
     ]
    },
    {
     "name": "stdout",
     "output_type": "stream",
     "text": [
      "Epoch 20/20, Loss: 78091.38830610848\n",
      "Checkpoint saved at ./checkpoints\\epoch_20.pth\n",
      "\n"
     ]
    }
   ],
   "source": [
    "num_epochs = NUM_EPOCHS\n",
    "for epoch in range(num_epochs):\n",
    "    model.train()\n",
    "    total_loss = 0\n",
    "\n",
    "    for batch in tqdm(train_dataloader):\n",
    "        pixel_values = batch[\"pixel_values\"].to(device)\n",
    "        input_ids = batch[\"input_ids\"].to(device)\n",
    "        attention_mask = batch[\"attention_mask\"].to(device)\n",
    "        labels = batch[\"labels\"].to(device)\n",
    "        ocr_text = batch[\"ocr_text\"]  # OCR text is a list of strings\n",
    "\n",
    "        # Forward pass\n",
    "        logits = model(\n",
    "            pixel_values=pixel_values,\n",
    "            attention_mask=attention_mask,\n",
    "            input_ids=input_ids,\n",
    "            ocr_text=ocr_text,\n",
    "        )\n",
    "\n",
    "        # Compute loss\n",
    "        loss = criterion(logits.to(torch.float), labels.to(float))\n",
    "        total_loss += loss.item()\n",
    "\n",
    "        optimizer.zero_grad()\n",
    "        loss.backward()\n",
    "        optimizer.step()\n",
    "\n",
    "    avg_loss = total_loss / len(train_dataloader)\n",
    "    print(f\"Epoch {epoch + 1}/{NUM_EPOCHS}, Loss: {avg_loss}\")\n",
    "    checkpoint_path = os.path.join(ckpt_dir, f\"epoch_{epoch+1}.pth\")\n",
    "    torch.save(\n",
    "        {\n",
    "            \"epoch\": epoch + 1,\n",
    "            \"model_state_dict\": model.state_dict(),\n",
    "            \"optimizer_state_dict\": optimizer.state_dict(),\n",
    "            \"loss\": avg_loss,\n",
    "        },\n",
    "        checkpoint_path,\n",
    "    )\n",
    "    print(f\"Checkpoint saved at {checkpoint_path}\")\n",
    "    print()"
   ]
  },
  {
   "cell_type": "code",
   "execution_count": 20,
   "metadata": {},
   "outputs": [],
   "source": [
    "save_path = f\"{BASE_DIR}\\\\models\\\\custom_blip_model\"\n",
    "# model.save_pretrained(save_path)\n",
    "# processor.save_pretrained(save_path)"
   ]
  },
  {
   "cell_type": "code",
   "execution_count": 22,
   "metadata": {},
   "outputs": [],
   "source": [
    "torch.save(model.state_dict(), f\"{save_path}\\\\model.pth\")"
   ]
  },
  {
   "cell_type": "code",
   "execution_count": 44,
   "metadata": {},
   "outputs": [],
   "source": [
    "class MultiModalTestVQADataset(Dataset):\n",
    "    def __init__(self, dataframe, processor, max_length=MAX_LENGTH):\n",
    "        self.dataframe = dataframe\n",
    "        self.processor = processor\n",
    "        # self.ocr_reader = ocr_reader\n",
    "        self.max_length = max_length\n",
    "\n",
    "    def __len__(self):\n",
    "        return len(self.dataframe)\n",
    "\n",
    "    def __getitem__(self, idx):\n",
    "        row = self.dataframe.iloc[idx]\n",
    "        image = Image.open(row[\"image_path\"]).convert(\"RGB\")\n",
    "        question = row[\"question\"]\n",
    "        answer = row[\"answer\"]\n",
    "\n",
    "        # Extract text from the image\n",
    "        ocr_text = extract_text(row[\"image_path\"])\n",
    "\n",
    "        # Prepare inputs for the vision model\n",
    "        inputs = self.processor(\n",
    "            text=question,\n",
    "            images=image,\n",
    "            max_length=self.max_length,\n",
    "            padding=\"max_length\",\n",
    "            truncation=True,\n",
    "            return_tensors=\"pt\",\n",
    "        )\n",
    "        inputs = {key: value.squeeze(0) if isinstance(value, torch.Tensor) else value for key, value in inputs.items()}\n",
    "\n",
    "        \n",
    "        for key in inputs:\n",
    "            inputs[key] = inputs[key].squeeze(0)\n",
    "            \n",
    "        inputs[\"ocr_text\"] = ocr_text\n",
    "        return {\n",
    "            \"pixel_values\": inputs[\"pixel_values\"],\n",
    "            \"input_ids\": inputs[\"input_ids\"],\n",
    "            \"attention_mask\": inputs[\"attention_mask\"],\n",
    "            \"ocr_text\" : inputs[\"ocr_text\"],\n",
    "            \"question\": question,\n",
    "            \"answer\": answer,  # For evaluation purposes\n",
    "        }"
   ]
  },
  {
   "cell_type": "code",
   "execution_count": 45,
   "metadata": {},
   "outputs": [],
   "source": [
    "test_df = pd.read_csv(f\"{BASE_DIR}/data/test_vqa.csv\")"
   ]
  },
  {
   "cell_type": "code",
   "execution_count": 46,
   "metadata": {},
   "outputs": [],
   "source": [
    "test_dataset = MultiModalTestVQADataset(test_df, processor)\n",
    "test_dataloader = DataLoader(test_dataset, batch_size=BATCH_SIZE, shuffle=False)"
   ]
  },
  {
   "cell_type": "code",
   "execution_count": 47,
   "metadata": {},
   "outputs": [],
   "source": [
    "# model = BlipForQuestionAnswering.from_pretrained(save_path)\n",
    "# processor = BlipProcessor.from_pretrained(save_path)"
   ]
  },
  {
   "cell_type": "code",
   "execution_count": 48,
   "metadata": {},
   "outputs": [],
   "source": [
    "from evaluate import load\n",
    "\n",
    "metric = load(\"sacrebleu\")"
   ]
  },
  {
   "cell_type": "code",
   "execution_count": null,
   "metadata": {},
   "outputs": [
    {
     "name": "stderr",
     "output_type": "stream",
     "text": [
      "c:\\Users\\CSE IIT BHILAI\\Downloads\\dlcv\\.venv\\Lib\\site-packages\\doctr\\models\\utils\\pytorch.py:59: FutureWarning: You are using `torch.load` with `weights_only=False` (the current default value), which uses the default pickle module implicitly. It is possible to construct malicious pickle data which will execute arbitrary code during unpickling (See https://github.com/pytorch/pytorch/blob/main/SECURITY.md#untrusted-models for more details). In a future release, the default value for `weights_only` will be flipped to `True`. This limits the functions that could be executed during unpickling. Arbitrary objects will no longer be allowed to be loaded via this mode unless they are explicitly allowlisted by the user via `torch.serialization.add_safe_globals`. We recommend you start setting `weights_only=True` for any use case where you don't have full control of the loaded file. Please open an issue on GitHub for any issues related to this experimental feature.\n",
      "  state_dict = torch.load(archive_path, map_location=\"cpu\")\n"
     ]
    }
   ],
   "source": [
    "model.eval()\n",
    "predictions = []\n",
    "references = []\n",
    "\n",
    "with torch.no_grad():\n",
    "    for batch in test_dataloader:\n",
    "        pixel_values = batch[\"pixel_values\"].to(device)\n",
    "        input_ids = batch[\"input_ids\"].to(device)\n",
    "        attention_mask = batch[\"attention_mask\"].to(device)\n",
    "        ocr_text = batch[\"ocr_text\"]\n",
    "\n",
    "        # Generate predictions\n",
    "        logits = model(\n",
    "            pixel_values=pixel_values,\n",
    "            attention_mask=attention_mask,\n",
    "            input_ids=input_ids,\n",
    "            ocr_text=ocr_text,\n",
    "        )\n",
    "        predicted_ids = torch.argmax(logits, dim=1)\n",
    "\n",
    "        # Decode predictions\n",
    "        predicted_answers = processor.tokenizer.batch_decode(\n",
    "            predicted_ids, skip_special_tokens=True\n",
    "        )\n",
    "        ground_truth_answer = batch[\"answer\"]\n",
    "\n",
    "        predictions.append(predicted_answers)\n",
    "        references.append(ground_truth_answer)\n",
    "\n",
    "        metric.add_batch(predictions=predicted_answers, references=ground_truth_answer)\n",
    "\n",
    "results = metric.compute()\n",
    "print(f\"BLEU Score: {results['score']}\")"
   ]
  },
  {
   "cell_type": "code",
   "execution_count": null,
   "metadata": {},
   "outputs": [],
   "source": [
    "import numpy as np\n",
    "from itertools import chain"
   ]
  },
  {
   "cell_type": "code",
   "execution_count": null,
   "metadata": {},
   "outputs": [],
   "source": [
    "results_df = pd.DataFrame()\n",
    "results_df[\"labels\"] = list(chain.from_iterable(references))\n",
    "results_df[\"predictions\"] = list(chain.from_iterable(predictions))\n",
    "results_df.head()"
   ]
  },
  {
   "cell_type": "code",
   "execution_count": null,
   "metadata": {},
   "outputs": [],
   "source": [
    "results_df.to_csv(f\"{BASE_DIR}/results/custom_blip.csv\", index=False)"
   ]
  },
  {
   "cell_type": "code",
   "execution_count": null,
   "metadata": {},
   "outputs": [],
   "source": [
    "import torch\n",
    "from torch import nn\n",
    "from transformers import BlipForConditionalGeneration, AutoTokenizer, AutoModel\n",
    "\n",
    "class MultiModalVQAModelWithDecoder(nn.Module):\n",
    "    def _init_(self, vision_model_name, text_model_name, hidden_size=768, max_length=128):\n",
    "        \"\"\"\n",
    "        A multimodal VQA model combining image and OCR text features,\n",
    "        generating full sentences as answers using a BLIP decoder.\n",
    "\n",
    "        Args:\n",
    "            vision_model_name (str): Pretrained vision model (e.g., BLIP).\n",
    "            text_model_name (str): Pretrained text model (e.g., BERT or RoBERTa).\n",
    "            hidden_size (int): Size of the hidden layer for fusion.\n",
    "            max_length (int): Maximum length of generated answers.\n",
    "        \"\"\"\n",
    "        super(MultiModalVQAModelWithDecoder, self)._init_()\n",
    "\n",
    "        # Vision model (BLIP for image encoding)\n",
    "        self.vision_model = BlipForConditionalGeneration.from_pretrained(vision_model_name)\n",
    "\n",
    "        # Text model for OCR-extracted text (e.g., BERT or RoBERTa)\n",
    "        self.text_model = AutoModel.from_pretrained(text_model_name)\n",
    "        self.tokenizer = AutoTokenizer.from_pretrained(text_model_name)\n",
    "\n",
    "        # Fusion Layer: Combines vision and text features\n",
    "        self.fusion_layer = nn.Linear(hidden_size * 2, hidden_size)\n",
    "\n",
    "        # Max length for decoder-generated answers\n",
    "        self.max_length = max_length\n",
    "\n",
    "    def forward(self, pixel_values, input_ids, attention_mask, ocr_text, labels=None):\n",
    "        \"\"\"\n",
    "        Forward pass of the model.\n",
    "\n",
    "        Args:\n",
    "            pixel_values (torch.Tensor): Preprocessed image tensor.\n",
    "            input_ids (torch.Tensor): Tokenized question input IDs.\n",
    "            attention_mask (torch.Tensor): Attention mask for the question.\n",
    "            ocr_text (list of str): OCR-extracted text from images.\n",
    "            labels (torch.Tensor, optional): Tokenized ground-truth answer IDs for training.\n",
    "\n",
    "        Returns:\n",
    "            torch.Tensor: Loss (if labels are provided) or logits (during inference).\n",
    "        \"\"\"\n",
    "        # Vision features from BLIP\n",
    "        vision_outputs = self.vision_model.vision_model(pixel_values=pixel_values)\n",
    "        vision_features = vision_outputs.last_hidden_state.mean(dim=1)  # Mean pooling\n",
    "\n",
    "        # Text features from OCR-extracted text\n",
    "        ocr_inputs = self.tokenizer(\n",
    "            ocr_text, padding=True, truncation=True, return_tensors=\"pt\"\n",
    "        )\n",
    "        ocr_outputs = self.text_model(**ocr_inputs.to(vision_features.device))\n",
    "        ocr_features = ocr_outputs.last_hidden_state.mean(dim=1)  # Mean pooling\n",
    "\n",
    "        # Fusion of vision and OCR features\n",
    "        combined_features = torch.cat([vision_features, ocr_features], dim=1)\n",
    "        fused_features = self.fusion_layer(combined_features)\n",
    "\n",
    "        # Pass fused features to BLIP's decoder\n",
    "        decoder_inputs = {\n",
    "            \"pixel_values\": pixel_values,\n",
    "            \"input_ids\": input_ids,\n",
    "            \"attention_mask\": attention_mask,\n",
    "            \"encoder_outputs\": (fused_features.unsqueeze(1),),  # Treat fused features as encoder output\n",
    "            \"labels\": labels,\n",
    "        }\n",
    "        outputs = self.vision_model(**decoder_inputs)\n",
    "\n",
    "        return outputs"
   ]
  }
 ],
 "metadata": {
  "kernelspec": {
   "display_name": ".venv",
   "language": "python",
   "name": "python3"
  },
  "language_info": {
   "codemirror_mode": {
    "name": "ipython",
    "version": 3
   },
   "file_extension": ".py",
   "mimetype": "text/x-python",
   "name": "python",
   "nbconvert_exporter": "python",
   "pygments_lexer": "ipython3",
   "version": "3.12.5"
  }
 },
 "nbformat": 4,
 "nbformat_minor": 2
}
