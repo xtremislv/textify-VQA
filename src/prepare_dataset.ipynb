{
 "cells": [
  {
   "cell_type": "markdown",
   "id": "1b70b34e",
   "metadata": {},
   "source": [
    "### Basic library imports"
   ]
  },
  {
   "cell_type": "code",
   "execution_count": 1,
   "id": "719d15af",
   "metadata": {},
   "outputs": [],
   "source": [
    "import os\n",
    "import pandas as pd\n",
    "from pathlib import Path"
   ]
  },
  {
   "cell_type": "markdown",
   "id": "b8911e33",
   "metadata": {},
   "source": [
    "### Read Dataset"
   ]
  },
  {
   "cell_type": "code",
   "execution_count": 5,
   "id": "d3136aac",
   "metadata": {},
   "outputs": [],
   "source": [
    "DATASET_FOLDER = \"../dataset\"\n",
    "train = pd.read_csv(os.path.join(DATASET_FOLDER, \"train.csv\"))"
   ]
  },
  {
   "cell_type": "code",
   "execution_count": 6,
   "id": "2b2d5cc5",
   "metadata": {},
   "outputs": [],
   "source": [
    "train[\"filename\"] = train[\"image_link\"].apply(lambda x: Path(x).name)"
   ]
  },
  {
   "cell_type": "code",
   "execution_count": 8,
   "id": "0e93dce6",
   "metadata": {},
   "outputs": [
    {
     "data": {
      "text/html": [
       "<div>\n",
       "<style scoped>\n",
       "    .dataframe tbody tr th:only-of-type {\n",
       "        vertical-align: middle;\n",
       "    }\n",
       "\n",
       "    .dataframe tbody tr th {\n",
       "        vertical-align: top;\n",
       "    }\n",
       "\n",
       "    .dataframe thead th {\n",
       "        text-align: right;\n",
       "    }\n",
       "</style>\n",
       "<table border=\"1\" class=\"dataframe\">\n",
       "  <thead>\n",
       "    <tr style=\"text-align: right;\">\n",
       "      <th></th>\n",
       "      <th>image_link</th>\n",
       "      <th>group_id</th>\n",
       "      <th>entity_name</th>\n",
       "      <th>entity_value</th>\n",
       "      <th>filename</th>\n",
       "    </tr>\n",
       "  </thead>\n",
       "  <tbody>\n",
       "    <tr>\n",
       "      <th>0</th>\n",
       "      <td>https://m.media-amazon.com/images/I/61I9XdN6OF...</td>\n",
       "      <td>748919</td>\n",
       "      <td>item_weight</td>\n",
       "      <td>500.0 gram</td>\n",
       "      <td>61I9XdN6OFL.jpg</td>\n",
       "    </tr>\n",
       "    <tr>\n",
       "      <th>1</th>\n",
       "      <td>https://m.media-amazon.com/images/I/71gSRbyXmo...</td>\n",
       "      <td>916768</td>\n",
       "      <td>item_volume</td>\n",
       "      <td>1.0 cup</td>\n",
       "      <td>71gSRbyXmoL.jpg</td>\n",
       "    </tr>\n",
       "    <tr>\n",
       "      <th>2</th>\n",
       "      <td>https://m.media-amazon.com/images/I/61BZ4zrjZX...</td>\n",
       "      <td>459516</td>\n",
       "      <td>item_weight</td>\n",
       "      <td>0.709 gram</td>\n",
       "      <td>61BZ4zrjZXL.jpg</td>\n",
       "    </tr>\n",
       "    <tr>\n",
       "      <th>3</th>\n",
       "      <td>https://m.media-amazon.com/images/I/612mrlqiI4...</td>\n",
       "      <td>459516</td>\n",
       "      <td>item_weight</td>\n",
       "      <td>0.709 gram</td>\n",
       "      <td>612mrlqiI4L.jpg</td>\n",
       "    </tr>\n",
       "    <tr>\n",
       "      <th>4</th>\n",
       "      <td>https://m.media-amazon.com/images/I/617Tl40LOX...</td>\n",
       "      <td>731432</td>\n",
       "      <td>item_weight</td>\n",
       "      <td>1400 milligram</td>\n",
       "      <td>617Tl40LOXL.jpg</td>\n",
       "    </tr>\n",
       "  </tbody>\n",
       "</table>\n",
       "</div>"
      ],
      "text/plain": [
       "                                          image_link  group_id  entity_name  \\\n",
       "0  https://m.media-amazon.com/images/I/61I9XdN6OF...    748919  item_weight   \n",
       "1  https://m.media-amazon.com/images/I/71gSRbyXmo...    916768  item_volume   \n",
       "2  https://m.media-amazon.com/images/I/61BZ4zrjZX...    459516  item_weight   \n",
       "3  https://m.media-amazon.com/images/I/612mrlqiI4...    459516  item_weight   \n",
       "4  https://m.media-amazon.com/images/I/617Tl40LOX...    731432  item_weight   \n",
       "\n",
       "     entity_value         filename  \n",
       "0      500.0 gram  61I9XdN6OFL.jpg  \n",
       "1         1.0 cup  71gSRbyXmoL.jpg  \n",
       "2      0.709 gram  61BZ4zrjZXL.jpg  \n",
       "3      0.709 gram  612mrlqiI4L.jpg  \n",
       "4  1400 milligram  617Tl40LOXL.jpg  "
      ]
     },
     "execution_count": 8,
     "metadata": {},
     "output_type": "execute_result"
    }
   ],
   "source": [
    "train.head()"
   ]
  },
  {
   "cell_type": "code",
   "execution_count": null,
   "id": "0cf64521",
   "metadata": {},
   "outputs": [],
   "source": [
    "train.drop(columns=[\"group_id\"], inplace=True)"
   ]
  },
  {
   "cell_type": "code",
   "execution_count": 12,
   "id": "efdf76f6",
   "metadata": {},
   "outputs": [],
   "source": [
    "from sklearn.model_selection import train_test_split\n",
    "\n",
    "train_df, test_df = train_test_split(train, test_size=0.2, random_state=42)"
   ]
  },
  {
   "cell_type": "code",
   "execution_count": 4,
   "id": "06f519fa",
   "metadata": {},
   "outputs": [],
   "source": [
    "train_df.to_csv(\"train.csv\", index=False)\n",
    "test_df.to_csv(\"test.csv\", index=False)"
   ]
  },
  {
   "cell_type": "code",
   "execution_count": 3,
   "id": "123dd392",
   "metadata": {},
   "outputs": [],
   "source": [
    "train = pd.read_csv(\"../data/train.csv\")\n",
    "test = pd.read_csv(\"../data/test.csv\")"
   ]
  },
  {
   "cell_type": "code",
   "execution_count": 4,
   "id": "66b5a6b0",
   "metadata": {},
   "outputs": [
    {
     "name": "stderr",
     "output_type": "stream",
     "text": [
      "d:\\project\\student_resource 3\\src\\utils.py:107: SettingWithCopyWarning: \n",
      "A value is trying to be set on a copy of a slice from a DataFrame.\n",
      "Try using .loc[row_indexer,col_indexer] = value instead\n",
      "\n",
      "See the caveats in the documentation: https://pandas.pydata.org/pandas-docs/stable/user_guide/indexing.html#returning-a-view-versus-a-copy\n",
      "  df[\"json\"] = df.to_json(orient=\"records\", lines=True).splitlines()\n",
      "100%|██████████| 211087/211087 [20:30<00:00, 171.51it/s] \n"
     ]
    }
   ],
   "source": [
    "from utils import prepare_dataset\n",
    "\n",
    "prepare_dataset(train, \"D:\\\\project\\\\student_resource 3\\\\images\\\\train\")"
   ]
  },
  {
   "cell_type": "code",
   "execution_count": 5,
   "id": "ddd4b8c5",
   "metadata": {},
   "outputs": [],
   "source": [
    "from sklearn.model_selection import train_test_split\n",
    "\n",
    "train2, test2 = train_test_split(train[:20000], test_size=0.2, random_state=42)"
   ]
  },
  {
   "cell_type": "code",
   "execution_count": 6,
   "id": "ce669bea",
   "metadata": {},
   "outputs": [],
   "source": [
    "train2[\"filename\"] = train2[\"image_link\"].apply(\n",
    "    lambda x: os.path.join(\"images/train/\", Path(x).name)\n",
    ")\n",
    "train2.drop(columns=[\"group_id\"], inplace=True)\n",
    "test2[\"filename\"] = test2[\"image_link\"].apply(\n",
    "    lambda x: os.path.join(\"images/train/\", Path(x).name)\n",
    ")\n",
    "test2.drop(columns=[\"group_id\"], inplace=True)"
   ]
  },
  {
   "cell_type": "code",
   "execution_count": 7,
   "id": "22cefb03",
   "metadata": {},
   "outputs": [
    {
     "data": {
      "text/html": [
       "<div>\n",
       "<style scoped>\n",
       "    .dataframe tbody tr th:only-of-type {\n",
       "        vertical-align: middle;\n",
       "    }\n",
       "\n",
       "    .dataframe tbody tr th {\n",
       "        vertical-align: top;\n",
       "    }\n",
       "\n",
       "    .dataframe thead th {\n",
       "        text-align: right;\n",
       "    }\n",
       "</style>\n",
       "<table border=\"1\" class=\"dataframe\">\n",
       "  <thead>\n",
       "    <tr style=\"text-align: right;\">\n",
       "      <th></th>\n",
       "      <th>image_link</th>\n",
       "      <th>entity_name</th>\n",
       "      <th>entity_value</th>\n",
       "      <th>filename</th>\n",
       "    </tr>\n",
       "  </thead>\n",
       "  <tbody>\n",
       "    <tr>\n",
       "      <th>5894</th>\n",
       "      <td>https://m.media-amazon.com/images/I/617dL+lgq+...</td>\n",
       "      <td>height</td>\n",
       "      <td>12.5 centimetre</td>\n",
       "      <td>images/train/617dL+lgq+L.jpg</td>\n",
       "    </tr>\n",
       "    <tr>\n",
       "      <th>3728</th>\n",
       "      <td>https://m.media-amazon.com/images/I/51NHvazso9...</td>\n",
       "      <td>depth</td>\n",
       "      <td>13.0 inch</td>\n",
       "      <td>images/train/51NHvazso9L.jpg</td>\n",
       "    </tr>\n",
       "    <tr>\n",
       "      <th>8958</th>\n",
       "      <td>https://m.media-amazon.com/images/I/612KGQm+Vm...</td>\n",
       "      <td>height</td>\n",
       "      <td>6.25 inch</td>\n",
       "      <td>images/train/612KGQm+VmL.jpg</td>\n",
       "    </tr>\n",
       "    <tr>\n",
       "      <th>7671</th>\n",
       "      <td>https://m.media-amazon.com/images/I/61JTSA63Vg...</td>\n",
       "      <td>item_weight</td>\n",
       "      <td>1 kilogram</td>\n",
       "      <td>images/train/61JTSA63VgS.jpg</td>\n",
       "    </tr>\n",
       "    <tr>\n",
       "      <th>5999</th>\n",
       "      <td>https://m.media-amazon.com/images/I/71j+djqqtk...</td>\n",
       "      <td>item_weight</td>\n",
       "      <td>9.0 ounce</td>\n",
       "      <td>images/train/71j+djqqtkL.jpg</td>\n",
       "    </tr>\n",
       "  </tbody>\n",
       "</table>\n",
       "</div>"
      ],
      "text/plain": [
       "                                             image_link  entity_name  \\\n",
       "5894  https://m.media-amazon.com/images/I/617dL+lgq+...       height   \n",
       "3728  https://m.media-amazon.com/images/I/51NHvazso9...        depth   \n",
       "8958  https://m.media-amazon.com/images/I/612KGQm+Vm...       height   \n",
       "7671  https://m.media-amazon.com/images/I/61JTSA63Vg...  item_weight   \n",
       "5999  https://m.media-amazon.com/images/I/71j+djqqtk...  item_weight   \n",
       "\n",
       "         entity_value                      filename  \n",
       "5894  12.5 centimetre  images/train/617dL+lgq+L.jpg  \n",
       "3728        13.0 inch  images/train/51NHvazso9L.jpg  \n",
       "8958        6.25 inch  images/train/612KGQm+VmL.jpg  \n",
       "7671       1 kilogram  images/train/61JTSA63VgS.jpg  \n",
       "5999        9.0 ounce  images/train/71j+djqqtkL.jpg  "
      ]
     },
     "execution_count": 7,
     "metadata": {},
     "output_type": "execute_result"
    }
   ],
   "source": [
    "train2.head()"
   ]
  },
  {
   "cell_type": "code",
   "execution_count": 8,
   "id": "27abdce1",
   "metadata": {},
   "outputs": [],
   "source": [
    "train2.to_csv(\"../data/train_reduced.csv\", index=False)\n",
    "test2.to_csv(\"../data/test_reduced.csv\", index=False)"
   ]
  },
  {
   "cell_type": "markdown",
   "id": "fc372c05",
   "metadata": {},
   "source": [
    "# Prepare VQA Dataset"
   ]
  },
  {
   "cell_type": "code",
   "execution_count": 9,
   "id": "e7769f0c",
   "metadata": {},
   "outputs": [],
   "source": [
    "train2 = pd.read_csv(\"../data/train_reduced.csv\")\n",
    "test2 = pd.read_csv(\"../data/test_reduced.csv\")"
   ]
  },
  {
   "cell_type": "code",
   "execution_count": 10,
   "id": "40ca9281",
   "metadata": {},
   "outputs": [
    {
     "data": {
      "text/html": [
       "<div>\n",
       "<style scoped>\n",
       "    .dataframe tbody tr th:only-of-type {\n",
       "        vertical-align: middle;\n",
       "    }\n",
       "\n",
       "    .dataframe tbody tr th {\n",
       "        vertical-align: top;\n",
       "    }\n",
       "\n",
       "    .dataframe thead th {\n",
       "        text-align: right;\n",
       "    }\n",
       "</style>\n",
       "<table border=\"1\" class=\"dataframe\">\n",
       "  <thead>\n",
       "    <tr style=\"text-align: right;\">\n",
       "      <th></th>\n",
       "      <th>image_link</th>\n",
       "      <th>entity_name</th>\n",
       "      <th>entity_value</th>\n",
       "      <th>filename</th>\n",
       "    </tr>\n",
       "  </thead>\n",
       "  <tbody>\n",
       "    <tr>\n",
       "      <th>0</th>\n",
       "      <td>https://m.media-amazon.com/images/I/617dL+lgq+...</td>\n",
       "      <td>height</td>\n",
       "      <td>12.5 centimetre</td>\n",
       "      <td>images/train/617dL+lgq+L.jpg</td>\n",
       "    </tr>\n",
       "    <tr>\n",
       "      <th>1</th>\n",
       "      <td>https://m.media-amazon.com/images/I/51NHvazso9...</td>\n",
       "      <td>depth</td>\n",
       "      <td>13.0 inch</td>\n",
       "      <td>images/train/51NHvazso9L.jpg</td>\n",
       "    </tr>\n",
       "    <tr>\n",
       "      <th>2</th>\n",
       "      <td>https://m.media-amazon.com/images/I/612KGQm+Vm...</td>\n",
       "      <td>height</td>\n",
       "      <td>6.25 inch</td>\n",
       "      <td>images/train/612KGQm+VmL.jpg</td>\n",
       "    </tr>\n",
       "    <tr>\n",
       "      <th>3</th>\n",
       "      <td>https://m.media-amazon.com/images/I/61JTSA63Vg...</td>\n",
       "      <td>item_weight</td>\n",
       "      <td>1 kilogram</td>\n",
       "      <td>images/train/61JTSA63VgS.jpg</td>\n",
       "    </tr>\n",
       "    <tr>\n",
       "      <th>4</th>\n",
       "      <td>https://m.media-amazon.com/images/I/71j+djqqtk...</td>\n",
       "      <td>item_weight</td>\n",
       "      <td>9.0 ounce</td>\n",
       "      <td>images/train/71j+djqqtkL.jpg</td>\n",
       "    </tr>\n",
       "  </tbody>\n",
       "</table>\n",
       "</div>"
      ],
      "text/plain": [
       "                                          image_link  entity_name  \\\n",
       "0  https://m.media-amazon.com/images/I/617dL+lgq+...       height   \n",
       "1  https://m.media-amazon.com/images/I/51NHvazso9...        depth   \n",
       "2  https://m.media-amazon.com/images/I/612KGQm+Vm...       height   \n",
       "3  https://m.media-amazon.com/images/I/61JTSA63Vg...  item_weight   \n",
       "4  https://m.media-amazon.com/images/I/71j+djqqtk...  item_weight   \n",
       "\n",
       "      entity_value                      filename  \n",
       "0  12.5 centimetre  images/train/617dL+lgq+L.jpg  \n",
       "1        13.0 inch  images/train/51NHvazso9L.jpg  \n",
       "2        6.25 inch  images/train/612KGQm+VmL.jpg  \n",
       "3       1 kilogram  images/train/61JTSA63VgS.jpg  \n",
       "4        9.0 ounce  images/train/71j+djqqtkL.jpg  "
      ]
     },
     "execution_count": 10,
     "metadata": {},
     "output_type": "execute_result"
    }
   ],
   "source": [
    "train2.head()"
   ]
  },
  {
   "cell_type": "code",
   "execution_count": 11,
   "id": "c119ba9f",
   "metadata": {},
   "outputs": [],
   "source": [
    "def prepare_vqa_dataset(df):\n",
    "    new_df = pd.DataFrame()\n",
    "    new_df[\"image_path\"] = df[\"filename\"]\n",
    "    new_df[\"question\"] = df[\"entity_name\"].apply(\n",
    "        lambda x: f\"What is the {x if '_' not in x else ' '.join(x.split(\"_\")[1:])} of this item ?\"\n",
    "    )\n",
    "    new_df[\"answer\"] = df[\"entity_value\"]\n",
    "    return new_df"
   ]
  },
  {
   "cell_type": "code",
   "execution_count": 12,
   "id": "c48a1e08",
   "metadata": {},
   "outputs": [],
   "source": [
    "train_vqa = prepare_vqa_dataset(train2)\n",
    "test_vqa = prepare_vqa_dataset(test2)"
   ]
  },
  {
   "cell_type": "code",
   "execution_count": 13,
   "id": "09473b7f",
   "metadata": {},
   "outputs": [
    {
     "data": {
      "text/html": [
       "<div>\n",
       "<style scoped>\n",
       "    .dataframe tbody tr th:only-of-type {\n",
       "        vertical-align: middle;\n",
       "    }\n",
       "\n",
       "    .dataframe tbody tr th {\n",
       "        vertical-align: top;\n",
       "    }\n",
       "\n",
       "    .dataframe thead th {\n",
       "        text-align: right;\n",
       "    }\n",
       "</style>\n",
       "<table border=\"1\" class=\"dataframe\">\n",
       "  <thead>\n",
       "    <tr style=\"text-align: right;\">\n",
       "      <th></th>\n",
       "      <th>image_path</th>\n",
       "      <th>question</th>\n",
       "      <th>answer</th>\n",
       "    </tr>\n",
       "  </thead>\n",
       "  <tbody>\n",
       "    <tr>\n",
       "      <th>0</th>\n",
       "      <td>images/train/617dL+lgq+L.jpg</td>\n",
       "      <td>What is the height of this item ?</td>\n",
       "      <td>12.5 centimetre</td>\n",
       "    </tr>\n",
       "    <tr>\n",
       "      <th>1</th>\n",
       "      <td>images/train/51NHvazso9L.jpg</td>\n",
       "      <td>What is the depth of this item ?</td>\n",
       "      <td>13.0 inch</td>\n",
       "    </tr>\n",
       "    <tr>\n",
       "      <th>2</th>\n",
       "      <td>images/train/612KGQm+VmL.jpg</td>\n",
       "      <td>What is the height of this item ?</td>\n",
       "      <td>6.25 inch</td>\n",
       "    </tr>\n",
       "    <tr>\n",
       "      <th>3</th>\n",
       "      <td>images/train/61JTSA63VgS.jpg</td>\n",
       "      <td>What is the weight of this item ?</td>\n",
       "      <td>1 kilogram</td>\n",
       "    </tr>\n",
       "    <tr>\n",
       "      <th>4</th>\n",
       "      <td>images/train/71j+djqqtkL.jpg</td>\n",
       "      <td>What is the weight of this item ?</td>\n",
       "      <td>9.0 ounce</td>\n",
       "    </tr>\n",
       "  </tbody>\n",
       "</table>\n",
       "</div>"
      ],
      "text/plain": [
       "                     image_path                           question  \\\n",
       "0  images/train/617dL+lgq+L.jpg  What is the height of this item ?   \n",
       "1  images/train/51NHvazso9L.jpg   What is the depth of this item ?   \n",
       "2  images/train/612KGQm+VmL.jpg  What is the height of this item ?   \n",
       "3  images/train/61JTSA63VgS.jpg  What is the weight of this item ?   \n",
       "4  images/train/71j+djqqtkL.jpg  What is the weight of this item ?   \n",
       "\n",
       "            answer  \n",
       "0  12.5 centimetre  \n",
       "1        13.0 inch  \n",
       "2        6.25 inch  \n",
       "3       1 kilogram  \n",
       "4        9.0 ounce  "
      ]
     },
     "execution_count": 13,
     "metadata": {},
     "output_type": "execute_result"
    }
   ],
   "source": [
    "train_vqa.head()"
   ]
  },
  {
   "cell_type": "code",
   "execution_count": 14,
   "id": "c9357872",
   "metadata": {},
   "outputs": [],
   "source": [
    "train_vqa.to_csv(\"../data/train_vqa.csv\", index=False)\n",
    "test_vqa.to_csv(\"../data/test_vqa.csv\", index=False)"
   ]
  },
  {
   "cell_type": "code",
   "execution_count": 15,
   "id": "05c9231e",
   "metadata": {},
   "outputs": [
    {
     "data": {
      "text/html": [
       "<div>\n",
       "<style scoped>\n",
       "    .dataframe tbody tr th:only-of-type {\n",
       "        vertical-align: middle;\n",
       "    }\n",
       "\n",
       "    .dataframe tbody tr th {\n",
       "        vertical-align: top;\n",
       "    }\n",
       "\n",
       "    .dataframe thead th {\n",
       "        text-align: right;\n",
       "    }\n",
       "</style>\n",
       "<table border=\"1\" class=\"dataframe\">\n",
       "  <thead>\n",
       "    <tr style=\"text-align: right;\">\n",
       "      <th></th>\n",
       "      <th>image_path</th>\n",
       "      <th>question</th>\n",
       "      <th>answer</th>\n",
       "    </tr>\n",
       "  </thead>\n",
       "  <tbody>\n",
       "    <tr>\n",
       "      <th>0</th>\n",
       "      <td>images/train/617dL+lgq+L.jpg</td>\n",
       "      <td>What is the height of this item ?</td>\n",
       "      <td>12.5 centimetre</td>\n",
       "    </tr>\n",
       "    <tr>\n",
       "      <th>1</th>\n",
       "      <td>images/train/51NHvazso9L.jpg</td>\n",
       "      <td>What is the depth of this item ?</td>\n",
       "      <td>13.0 inch</td>\n",
       "    </tr>\n",
       "    <tr>\n",
       "      <th>2</th>\n",
       "      <td>images/train/612KGQm+VmL.jpg</td>\n",
       "      <td>What is the height of this item ?</td>\n",
       "      <td>6.25 inch</td>\n",
       "    </tr>\n",
       "    <tr>\n",
       "      <th>3</th>\n",
       "      <td>images/train/61JTSA63VgS.jpg</td>\n",
       "      <td>What is the weight of this item ?</td>\n",
       "      <td>1 kilogram</td>\n",
       "    </tr>\n",
       "    <tr>\n",
       "      <th>4</th>\n",
       "      <td>images/train/71j+djqqtkL.jpg</td>\n",
       "      <td>What is the weight of this item ?</td>\n",
       "      <td>9.0 ounce</td>\n",
       "    </tr>\n",
       "  </tbody>\n",
       "</table>\n",
       "</div>"
      ],
      "text/plain": [
       "                     image_path                           question  \\\n",
       "0  images/train/617dL+lgq+L.jpg  What is the height of this item ?   \n",
       "1  images/train/51NHvazso9L.jpg   What is the depth of this item ?   \n",
       "2  images/train/612KGQm+VmL.jpg  What is the height of this item ?   \n",
       "3  images/train/61JTSA63VgS.jpg  What is the weight of this item ?   \n",
       "4  images/train/71j+djqqtkL.jpg  What is the weight of this item ?   \n",
       "\n",
       "            answer  \n",
       "0  12.5 centimetre  \n",
       "1        13.0 inch  \n",
       "2        6.25 inch  \n",
       "3       1 kilogram  \n",
       "4        9.0 ounce  "
      ]
     },
     "execution_count": 15,
     "metadata": {},
     "output_type": "execute_result"
    }
   ],
   "source": [
    "train_vqa.head()"
   ]
  },
  {
   "cell_type": "code",
   "execution_count": 5,
   "id": "09f6658a",
   "metadata": {},
   "outputs": [],
   "source": [
    "train_vqa = pd.read_csv(\"../data/train_vqa.csv\")\n",
    "test_vqa = pd.read_csv(\"../data/test_vqa.csv\")"
   ]
  },
  {
   "cell_type": "code",
   "execution_count": 6,
   "id": "b2e979e8",
   "metadata": {},
   "outputs": [],
   "source": [
    "from tqdm import tqdm\n",
    "import matplotlib.pyplot as plt"
   ]
  },
  {
   "cell_type": "code",
   "execution_count": 18,
   "id": "dd4c3e01",
   "metadata": {},
   "outputs": [
    {
     "name": "stderr",
     "output_type": "stream",
     "text": [
      "100%|██████████| 3999/3999 [00:57<00:00, 69.26it/s]\n"
     ]
    }
   ],
   "source": [
    "for i in tqdm(test_vqa[\"image_path\"]):\n",
    "    try:\n",
    "        plt.imread(\"../\" + i)\n",
    "    except:\n",
    "        print(i)"
   ]
  },
  {
   "cell_type": "code",
   "execution_count": 13,
   "id": "8f1418f5",
   "metadata": {},
   "outputs": [
    {
     "data": {
      "text/plain": [
       "'images/train/81+f0yeIirL.jpg'"
      ]
     },
     "execution_count": 13,
     "metadata": {},
     "output_type": "execute_result"
    }
   ],
   "source": [
    "test_vqa[\"image_path\"][1216]"
   ]
  },
  {
   "cell_type": "code",
   "execution_count": null,
   "id": "d58660b0",
   "metadata": {},
   "outputs": [],
   "source": [
    "test_vqa.drop(index=1212, inplace=True)"
   ]
  },
  {
   "cell_type": "code",
   "execution_count": 25,
   "id": "e1b55685",
   "metadata": {},
   "outputs": [],
   "source": [
    "test_vqa.to_csv(\"../data/test_vqa.csv\", index=False)"
   ]
  },
  {
   "cell_type": "code",
   "execution_count": null,
   "id": "8b2dd0ab",
   "metadata": {},
   "outputs": [],
   "source": [
    "df = pd.read_csv(\"../data/test_vqa.csv\")"
   ]
  },
  {
   "cell_type": "code",
   "execution_count": 27,
   "id": "22766a25",
   "metadata": {},
   "outputs": [
    {
     "data": {
      "text/plain": [
       "3999"
      ]
     },
     "execution_count": 27,
     "metadata": {},
     "output_type": "execute_result"
    }
   ],
   "source": [
    "len(df)"
   ]
  },
  {
   "cell_type": "code",
   "execution_count": null,
   "id": "d0c0ac62",
   "metadata": {},
   "outputs": [],
   "source": []
  }
 ],
 "metadata": {
  "kernelspec": {
   "display_name": "env",
   "language": "python",
   "name": "python3"
  },
  "language_info": {
   "codemirror_mode": {
    "name": "ipython",
    "version": 3
   },
   "file_extension": ".py",
   "mimetype": "text/x-python",
   "name": "python",
   "nbconvert_exporter": "python",
   "pygments_lexer": "ipython3",
   "version": "3.12.5"
  }
 },
 "nbformat": 4,
 "nbformat_minor": 5
}
